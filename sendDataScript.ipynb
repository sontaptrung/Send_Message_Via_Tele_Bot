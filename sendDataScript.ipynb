{
 "cells": [
  {
   "cell_type": "code",
   "execution_count": 24,
   "metadata": {},
   "outputs": [],
   "source": [
    "import requests\n",
    "def sendPhoto(bot_token, chat_id, cap, file):\n",
    "    r = requests.post(\"https://api.telegram.org/bot{}/sendPhoto?chat_id={}&caption={}\".format(bot_token, chat_id, cap), files=file)\n",
    "    print(r.status_code, r.reason, r.content)\n",
    "\n",
    "def sendText(bot_token, chat_id, text):\n",
    "    r = requests.post(\"https://api.telegram.org/bot{}/sendMessage?chat_id={}&text={}\".format(bot_token, chat_id, text))\n",
    "    print(r.status_code, r.reason, r.content)\n",
    "\n",
    "def sendVideo(bot_token, chat_id, cap, file):\n",
    "    r = requests.post(\"https://api.telegram.org/bot{}/sendVideo?chat_id={}&caption={}\".format(bot_token, chat_id, cap), files=file)\n",
    "    print(r.status_code, r.reason, r.content)\n",
    "\n",
    "def sendAudio(bot_token, chat_id, cap, file):\n",
    "    r = requests.post(\"https://api.telegram.org/bot{}/sendAudio?chat_id={}&caption={}\".format(bot_token, chat_id, cap), files=file)\n",
    "    print(r.status_code, r.reason, r.content)\n",
    "\n",
    "def sendDocument(bot_token, chat_id, cap, file):\n",
    "    r = requests.post(\"https://api.telegram.org/bot{}/sendDocument?chat_id={}&caption={}\".format(bot_token, chat_id, cap), files=file)\n",
    "    print(r.status_code, r.reason, r.content)\n",
    "\n",
    "def sendSticker(bot_token, chat_id, file):\n",
    "    r = requests.post(\"https://api.telegram.org/bot{}/sendSticker?chat_id={}\".format(bot_token, chat_id), files=file)\n",
    "    print(r.status_code, r.reason, r.content)\n",
    "\n",
    "def sendVoice(bot_token, chat_id, cap, file):\n",
    "    r = requests.post(\"https://api.telegram.org/bot{}/sendVoice?chat_id={}&caption={}\".format(bot_token, chat_id, cap), files=file)\n",
    "    print(r.status_code, r.reason, r.content)\n",
    "\n",
    "def sendLocation(bot_token, chat_id, lat, lon):\n",
    "    r = requests.post(\"https://api.telegram.org/bot{}/sendLocation?chat_id={}&latitude={}&longitude={}\".format(bot_token, chat_id, lat, lon))\n",
    "    print(r.status_code, r.reason, r.content)\n"
   ]
  },
  {
   "cell_type": "code",
   "execution_count": 28,
   "metadata": {},
   "outputs": [
    {
     "name": "stdout",
     "output_type": "stream",
     "text": [
      "200 OK b'{\"ok\":true,\"result\":{\"message_id\":19,\"from\":{\"id\":6069180604,\"is_bot\":true,\"first_name\":\"Pothole Notification\",\"username\":\"PotholeNotificationBot\"},\"chat\":{\"id\":-1001833973135,\"title\":\"Pothole Detection\",\"type\":\"supergroup\"},\"date\":1678901380,\"photo\":[{\"file_id\":\"AgACAgUAAx0EbVA1jwADE2QSAAGEtvTumLitTTF8H-QT_SlqZwACdrUxG7rLkFSyL1Alo42q-QEAAwIAA3MAAy8E\",\"file_unique_id\":\"AQADdrUxG7rLkFR4\",\"file_size\":914,\"width\":90,\"height\":51},{\"file_id\":\"AgACAgUAAx0EbVA1jwADE2QSAAGEtvTumLitTTF8H-QT_SlqZwACdrUxG7rLkFSyL1Alo42q-QEAAwIAA20AAy8E\",\"file_unique_id\":\"AQADdrUxG7rLkFRy\",\"file_size\":7466,\"width\":320,\"height\":180},{\"file_id\":\"AgACAgUAAx0EbVA1jwADE2QSAAGEtvTumLitTTF8H-QT_SlqZwACdrUxG7rLkFSyL1Alo42q-QEAAwIAA3gAAy8E\",\"file_unique_id\":\"AQADdrUxG7rLkFR9\",\"file_size\":21374,\"width\":716,\"height\":403}],\"caption\":\"LongVuDz\"}}'\n"
     ]
    }
   ],
   "source": [
    "file = {'photo': open('LongVu.png', 'rb')}\n",
    "cap = \"LongVuDz\"\n",
    "bot_token = ''\n",
    "chat_id = ''\n",
    "\n",
    "sendPhoto(bot_token, chat_id, cap, file)\n",
    "\n"
   ]
  }
 ],
 "metadata": {
  "kernelspec": {
   "display_name": "Python 3",
   "language": "python",
   "name": "python3"
  },
  "language_info": {
   "codemirror_mode": {
    "name": "ipython",
    "version": 3
   },
   "file_extension": ".py",
   "mimetype": "text/x-python",
   "name": "python",
   "nbconvert_exporter": "python",
   "pygments_lexer": "ipython3",
   "version": "3.10.5"
  },
  "orig_nbformat": 4
 },
 "nbformat": 4,
 "nbformat_minor": 2
}
